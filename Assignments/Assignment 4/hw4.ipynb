{
 "cells": [
  {
   "cell_type": "markdown",
   "id": "26ff2289",
   "metadata": {},
   "source": [
    "# Part 1: Implementation of Single Layer Perceptron"
   ]
  },
  {
   "cell_type": "code",
   "execution_count": 2,
   "id": "bcc5f712",
   "metadata": {},
   "outputs": [],
   "source": [
    "#Load all the libraries required to carry on this task\n",
    "import numpy as np\n",
    "import pandas as pd\n",
    "from operator import add, mul, sub\n",
    "import matplotlib.pyplot as plt"
   ]
  },
  {
   "cell_type": "code",
   "execution_count": 5,
   "id": "37c5f232",
   "metadata": {},
   "outputs": [],
   "source": [
    "#Load first feature of the training dataset and convert the string data into float type and \n",
    "#store converted data into an array named X\n",
    "\n",
    "feature_train1=[x.split(' ')[0] for x in open('C:\\\\Users\\\\Admin\\\\OneDrive - Missouri State University\\\\635 Data Mining\\\\Assignment 4\\\\training.txt').readlines()]\n",
    "\n",
    "x1 = list(map(float, feature_train1))\n",
    "X = np.array(x1)"
   ]
  },
  {
   "cell_type": "code",
   "execution_count": 6,
   "id": "fcc3398e",
   "metadata": {},
   "outputs": [],
   "source": [
    "#Load second feature of the training dataset and convert the string data into float type and \n",
    "#store converted data into an array named x2_point\n",
    "\n",
    "feature_train2=[x.split(' ')[1] for x in open('C:\\\\Users\\\\Admin\\\\OneDrive - Missouri State University\\\\635 Data Mining\\\\Assignment 4\\\\training.txt').readlines()]\n",
    "\n",
    "x2 = list(map(float, feature_train2))\n",
    "x2_point = np.array(x2)"
   ]
  },
  {
   "cell_type": "code",
   "execution_count": 7,
   "id": "55ad591e",
   "metadata": {},
   "outputs": [],
   "source": [
    "#Load class label of the training dataset and convert the string data into float type and \n",
    "#store converted data into an array named targets\n",
    "\n",
    "target_train=[x.split(' ')[2] for x in open('C:\\\\Users\\\\Admin\\\\OneDrive - Missouri State University\\\\635 Data Mining\\\\Assignment 4\\\\training.txt').read().splitlines()]\n",
    "\n",
    "y = list(map(float, target_train))\n",
    "targets = np.array(y)"
   ]
  },
  {
   "cell_type": "code",
   "execution_count": 8,
   "id": "4da832cb",
   "metadata": {},
   "outputs": [],
   "source": [
    "#Load first feature of the test dataset and convert the string data into float type and \n",
    "#store converted data into an array named X_test\n",
    "\n",
    "feature_test1=[x.split(' ')[0] for x in open('C:\\\\Users\\\\Admin\\\\OneDrive - Missouri State University\\\\635 Data Mining\\\\Assignment 4\\\\test.txt').readlines()]\n",
    "x_test1 = list(map(float, feature_test1))\n",
    "X_test = np.array(x_test1)"
   ]
  },
  {
   "cell_type": "code",
   "execution_count": 9,
   "id": "ba142d98",
   "metadata": {},
   "outputs": [],
   "source": [
    "#Load second feature of the test dataset and convert the string data into float type and \n",
    "#store converted data into an array named X_test2\n",
    "\n",
    "feature_test2=[x.split(' ')[1] for x in open('C:\\\\Users\\\\Admin\\\\OneDrive - Missouri State University\\\\635 Data Mining\\\\Assignment 4\\\\test.txt').readlines()]\n",
    "x_test2 = list(map(float, feature_test2))\n",
    "X_test2 = np.array(x_test2)"
   ]
  },
  {
   "cell_type": "code",
   "execution_count": 79,
   "id": "73288d0b",
   "metadata": {},
   "outputs": [],
   "source": [
    "#Load target feature of the test dataset and convert the string data into float type and \n",
    "#store converted data into a list named y_test\n",
    "\n",
    "target_test=[x.split(' ')[2] for x in open('C:\\\\Users\\\\Admin\\\\OneDrive - Missouri State University\\\\635 Data Mining\\\\Assignment 4\\\\test.txt').readlines()]\n",
    "y_test = list(map(float, target_test))\n",
    "Y_test = np.array(y_test)"
   ]
  },
  {
   "cell_type": "code",
   "execution_count": 104,
   "id": "927f2976",
   "metadata": {},
   "outputs": [
    {
     "name": "stdout",
     "output_type": "stream",
     "text": [
      "Give the value of lambda[Learning Rate[0,1]] --->0.03\n"
     ]
    }
   ],
   "source": [
    "learning_rate = float(input(\"Give the value of lambda[Learning Rate[0,1]] --->\"))"
   ]
  },
  {
   "cell_type": "code",
   "execution_count": 168,
   "id": "492004ee",
   "metadata": {},
   "outputs": [
    {
     "name": "stdout",
     "output_type": "stream",
     "text": [
      "Provide Stopping Criteria [Number of Iterations] --->100\n"
     ]
    }
   ],
   "source": [
    "n_iter = int(input(\"Provide Stopping Criteria [Number of Iterations] --->\"))"
   ]
  },
  {
   "cell_type": "code",
   "execution_count": 182,
   "id": "912692dd",
   "metadata": {},
   "outputs": [
    {
     "name": "stdout",
     "output_type": "stream",
     "text": [
      "After Training Learned Weights are [0.9430042  0.36409373]\n",
      "After Training Learned Bias is 0.2729586062246589\n"
     ]
    }
   ],
   "source": [
    "#Function to perform trainining on train.txt\n",
    "\n",
    "def perceptron_train(feature1, feature2, class_label, lr, n_iteration):\n",
    "    weights = np.random.random(3)\n",
    "    weighted_sum = weights[0] + (weights[1]*inputs_test[:,0]) + (weights[2]*inputs_test[:,1])\n",
    "    error = Y_test - weighted_sum\n",
    "    \n",
    "    for n in range(n_iteration):\n",
    "        for e in range (len(error)):\n",
    "        \n",
    "            if (error[e]!=0):\n",
    "                weights = weights + (lr * weighted_sum[e])\n",
    "                weighted_sum = weights[0] + (weights[1]*inputs_test[:,0]) + (weights[2]*inputs_test[:,1])\n",
    "        \n",
    "    return weights\n",
    "\n",
    "train = perceptron_train(x1,x2,y,learning_rate,n_iter)\n",
    "print (\"After Training Learned Weights are\", train[:-1])\n",
    "print (\"After Training Learned Bias is\", train[-1])"
   ]
  },
  {
   "cell_type": "code",
   "execution_count": 193,
   "id": "f084665e",
   "metadata": {},
   "outputs": [
    {
     "name": "stdout",
     "output_type": "stream",
     "text": [
      "(5.32 0.37) Actual Label 1.00 and Predicted Label 1.00\n",
      "\n",
      "(-4.06 -6.25) Actual Label 1.00 and Predicted Label 1.00\n",
      "\n",
      "(-1.17 -6.83) Actual Label 1.00 and Predicted Label 1.00\n",
      "\n",
      "(7.60 -4.52) Actual Label 1.00 and Predicted Label 1.00\n",
      "\n",
      "(-1.72 -4.08) Actual Label 1.00 and Predicted Label 1.00\n",
      "\n",
      "(2.58 1.60) Actual Label 1.00 and Predicted Label 1.00\n",
      "\n",
      "(2.00 -4.68) Actual Label 1.00 and Predicted Label 1.00\n",
      "\n",
      "(-4.31 -4.93) Actual Label 1.00 and Predicted Label 1.00\n",
      "\n",
      "(-3.45 -7.12) Actual Label 1.00 and Predicted Label 1.00\n",
      "\n",
      "(9.20 -6.23) Actual Label 1.00 and Predicted Label 1.00\n",
      "\n",
      "(-5.56 7.41) Actual Label -1.00 and Predicted Label -1.00\n",
      "\n",
      "(-5.87 8.37) Actual Label -1.00 and Predicted Label -1.00\n",
      "\n",
      "(-0.23 2.23) Actual Label -1.00 and Predicted Label -1.00\n",
      "\n",
      "(-8.39 4.77) Actual Label -1.00 and Predicted Label -1.00\n",
      "\n",
      "(-6.69 9.28) Actual Label -1.00 and Predicted Label -1.00\n",
      "\n",
      "(-9.51 -5.91) Actual Label -1.00 and Predicted Label 1.00\n",
      "\n",
      "(4.00 5.59) Actual Label -1.00 and Predicted Label -1.00\n",
      "\n",
      "(-9.54 1.55) Actual Label -1.00 and Predicted Label -1.00\n",
      "\n",
      "(-9.97 0.31) Actual Label -1.00 and Predicted Label -1.00\n",
      "\n",
      "(2.80 9.71) Actual Label -1.00 and Predicted Label -1.00\n",
      "\n",
      "Accuracy rate: 95.00% \n",
      "\n",
      "After Training Learned Weights are [0.27755417 0.07113657]\n",
      "After Training Learned Bias is -0.21891832476806827\n"
     ]
    }
   ],
   "source": [
    "inpt = list(zip(x_test1,x_test2))\n",
    "inputs_test = np.array(inpt)\n",
    "\n",
    "#Fuction to predict class label for the testing objects and predict accuracy\n",
    "\n",
    "def perceptron(inputs_test, Y_test,lr,n_iteration):\n",
    "    weights = np.random.random(3)\n",
    "    weighted_sum = weights[0] + (weights[1]*inputs_test[:,0]) + (weights[2]*inputs_test[:,1])\n",
    "    error = Y_test - weighted_sum\n",
    "    \n",
    "    for n in range(n_iteration):\n",
    "        for e in range (len(error)):\n",
    "        \n",
    "            if (error[e]!=0):\n",
    "                weights = weights + (lr * weighted_sum[e])\n",
    "                weighted_sum = weights[0] + (weights[1]*inputs_test[:,0]) + (weights[2]*inputs_test[:,1])\n",
    "    \n",
    "    y_pred = []\n",
    "    \n",
    "    for w in range (0,len(weighted_sum)):\n",
    "        if(weighted_sum[w]>=(0)): #checking condintion to predict weights\n",
    "            value = 1\n",
    "        else:\n",
    "            value = -1\n",
    "        y_pred.append(value)\n",
    "        \n",
    "    perceptron.pred_label = np.array(y_pred)\n",
    "    \n",
    "    for i in range (0, len(y_pred)):\n",
    "        print (\"(%.2f %.2f) Actual Label %.2f and Predicted Label %.2f\\n\" %(inputs_test[i,0],inputs_test[i,1],Y_test[i],y_pred[i]))\n",
    "        \n",
    "    count = 0\n",
    "    misclass = 0\n",
    "    for i in range (0, len(Y_test)):\n",
    "        if (perceptron.pred_label[i] == Y_test[i]):\n",
    "            count +=1\n",
    "        else:\n",
    "            misclass +=1\n",
    "            \n",
    "    accuracy = (count/len(Y_test))\n",
    "    \n",
    "    print (\"Accuracy rate: {:.2%}\".format(accuracy), \"\\n\")\n",
    "    \n",
    "    return weights\n",
    "    \n",
    "test = perceptron (inputs_test, Y_test,learning_rate,n_iter)\n",
    "print (\"After Training Learned Weights are\", test[:-1])\n",
    "print (\"After Training Learned Bias is\", test[-1])"
   ]
  },
  {
   "cell_type": "markdown",
   "id": "40daba96",
   "metadata": {},
   "source": [
    "# Part 2"
   ]
  },
  {
   "cell_type": "markdown",
   "id": "6e28623a",
   "metadata": {},
   "source": [
    "Plot training dataset and draw hyperplane"
   ]
  },
  {
   "cell_type": "code",
   "execution_count": 196,
   "id": "bc6aec03",
   "metadata": {},
   "outputs": [
    {
     "data": {
      "image/png": "[encoded data removed]",
      "text/plain": [
       "<Figure size 576x576 with 1 Axes>"
      ]
     },
     "metadata": {
      "needs_background": "light"
     },
     "output_type": "display_data"
    }
   ],
   "source": [
    "\n",
    "inp = list(zip(x1,x2))\n",
    "inputs = np.array(inp)\n",
    "\n",
    "fig = plt.figure(figsize=(8,8))\n",
    "\n",
    "#Plotting based on target value[-1,1]\n",
    "\n",
    "plt.scatter(inputs[:, 0][targets==1], inputs[:, 1][targets==1], label = \"Positive Class\")\n",
    "plt.scatter(inputs[:, 0][targets==(-1)], inputs[:, 1][targets==(-1)], label = \"Negative Class\")\n",
    "plt.legend()\n",
    "\n",
    "plt.xlabel(\"feature 1\")\n",
    "plt.ylabel(\"feature 2\")\n",
    "plt.title(\"Perceptron Algorithm [Training Dataset]\")\n",
    "\n",
    "#Hyperplane draw, for this we use the equation Y = mx +c\n",
    "\n",
    "w1_train = train[-2]\n",
    "w2_train = train[-1]\n",
    "b = train[-3]\n",
    "    \n",
    "    \n",
    "for i in np.linspace(np.amin(inputs[:,:1]),np.amax(inputs[:,:1])):\n",
    "        slope = -(b/w2_train)/(b/w1_train)  \n",
    "        intercept = -b/w2_train\n",
    "\n",
    "        #y =mx+c, m is slope and c is intercept\n",
    "        y = (slope*i) + intercept\n",
    "        plt.plot(i, y,'ko')    \n",
    "    \n",
    "\n",
    "plt.show()\n"
   ]
  },
  {
   "cell_type": "markdown",
   "id": "e2c30c46",
   "metadata": {},
   "source": [
    "Plot test dataset and draw hyperplane"
   ]
  },
  {
   "cell_type": "code",
   "execution_count": 195,
   "id": "163003be",
   "metadata": {},
   "outputs": [
    {
     "data": {
      "image/png": "[encoded data removed]",
      "text/plain": [
       "<Figure size 576x432 with 1 Axes>"
      ]
     },
     "metadata": {
      "needs_background": "light"
     },
     "output_type": "display_data"
    }
   ],
   "source": [
    "w1_test = test[-2]\n",
    "w2_test = test[-1]\n",
    "b_test = test[-3]\n",
    "\n",
    "\n",
    "inp_test = list(zip(x_test1,x_test2))\n",
    "inputs_test = np.array(inp_test)\n",
    "\n",
    "targets_test = np.array(y_test)\n",
    "\n",
    "\n",
    "#Plotting based on target value[-1,1]\n",
    "\n",
    "fig = plt.figure(figsize=(8,6))\n",
    "\n",
    "plt.scatter(inputs_test[:, 0][perceptron.pred_label==1], inputs_test[:, 1][perceptron.pred_label==1.0], label = \"Positive Class\")\n",
    "plt.scatter(inputs_test[:, 0][perceptron.pred_label==(-1.0)], inputs_test[:, 1][perceptron.pred_label==(-1.0)], label = \"Negative Class\")\n",
    "plt.legend()\n",
    "plt.xlabel(\"feature 1\")\n",
    "plt.ylabel(\"feature 2\")\n",
    "plt.title(\"Perceptron Algorithm [Test Dataset]\")\n",
    "\n",
    "#Hyperplane draw, for this we use the equation Y = mx +c\n",
    "\n",
    "for i in np.linspace(np.amin(inputs_test[:,:1]),np.amax(inputs_test[:,:1])):\n",
    "        slope = -(b_test/w2_test)/(b/w1_test)  \n",
    "        intercept = -b/w2_test\n",
    "\n",
    "        #y =mx+c, m is slope and c is intercept\n",
    "        y = (slope*i) + intercept\n",
    "        plt.plot(i, y,'ko')  \n",
    "\n",
    "plt.show()\n"
   ]
  },
  {
   "cell_type": "code",
   "execution_count": null,
   "id": "24f42c6c",
   "metadata": {},
   "outputs": [],
   "source": []
  },
  {
   "cell_type": "code",
   "execution_count": null,
   "id": "296dda8d",
   "metadata": {},
   "outputs": [],
   "source": []
  },
  {
   "cell_type": "code",
   "execution_count": null,
   "id": "66bf0463",
   "metadata": {},
   "outputs": [],
   "source": []
  }
 ],
 "metadata": {
  "kernelspec": {
   "display_name": "Python 3",
   "language": "python",
   "name": "python3"
  },
  "language_info": {
   "codemirror_mode": {
    "name": "ipython",
    "version": 3
   },
   "file_extension": ".py",
   "mimetype": "text/x-python",
   "name": "python",
   "nbconvert_exporter": "python",
   "pygments_lexer": "ipython3",
   "version": "3.8.8"
  }
 },
 "nbformat": 4,
 "nbformat_minor": 5
}
