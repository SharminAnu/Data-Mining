{
 "cells": [
  {
   "cell_type": "markdown",
   "id": "c7622b68",
   "metadata": {},
   "source": [
    "# Import Libraries"
   ]
  },
  {
   "cell_type": "code",
   "execution_count": 1,
   "id": "eb8281d4",
   "metadata": {},
   "outputs": [],
   "source": [
    "import pandas as pd #library to load the datasets\n",
    "import numpy as np #library for numerical operations"
   ]
  },
  {
   "cell_type": "markdown",
   "id": "10f15d5a",
   "metadata": {},
   "source": [
    "# Read the Datasets\n",
    "Dataset link: https://www.kaggle.com/c/digit-recognizer/data"
   ]
  },
  {
   "cell_type": "code",
   "execution_count": 22,
   "id": "c640831a",
   "metadata": {},
   "outputs": [],
   "source": [
    "#load the training dataset\n",
    "mnist = pd.read_csv(\"C:\\\\Users\\\\ss3727s\\\\OneDrive - Missouri State University\\\\635 Data Mining\\\\Assignment 3\\\\MNIST_train.csv\")"
   ]
  },
  {
   "cell_type": "code",
   "execution_count": 23,
   "id": "6328d7fa",
   "metadata": {},
   "outputs": [
    {
     "data": {
      "text/plain": [
       "(949, 785)"
      ]
     },
     "execution_count": 23,
     "metadata": {},
     "output_type": "execute_result"
    }
   ],
   "source": [
    "#Check out the size of the training dataset\n",
    "mnist.shape"
   ]
  },
  {
   "cell_type": "code",
   "execution_count": 24,
   "id": "ca595771",
   "metadata": {},
   "outputs": [],
   "source": [
    "#In the training dataset first column is Class_Label so extraxted the first column as a dependent feature \n",
    "#and store the remaining columns as independent features.\n",
    "X = mnist.iloc[:, 1:].values #independent features of training dataset\n",
    "y = mnist['label'].values #dependent feature of training dataset"
   ]
  },
  {
   "cell_type": "markdown",
   "id": "d4c1e65c",
   "metadata": {},
   "source": [
    "# load the test dataset\n",
    "In the test dataset first column is Class_Label so extraxted the first column as a dependent feature and store the remaining columns as independent features."
   ]
  },
  {
   "cell_type": "code",
   "execution_count": 26,
   "id": "ddfa7141",
   "metadata": {},
   "outputs": [],
   "source": [
    "mnist_test = pd.read_csv('C:\\\\Users\\\\ss3727s\\\\OneDrive - Missouri State University\\\\635 Data Mining\\\\Assignment 3\\\\MNIST_test.csv')\n",
    "X_test = mnist_test.iloc[:, 1:].values\n",
    "y_test = mnist_test['label'].values"
   ]
  },
  {
   "cell_type": "code",
   "execution_count": 27,
   "id": "6096af60",
   "metadata": {},
   "outputs": [
    {
     "data": {
      "text/plain": [
       "(50, 785)"
      ]
     },
     "execution_count": 27,
     "metadata": {},
     "output_type": "execute_result"
    }
   ],
   "source": [
    "#Check out the size of the test dataset\n",
    "mnist_test.shape"
   ]
  },
  {
   "cell_type": "markdown",
   "id": "512e7dd6",
   "metadata": {},
   "source": [
    "# Euclidean Distance"
   ]
  },
  {
   "attachments": {
    "image.png": {
     "image/png": "[encoded data removed]"
    }
   },
   "cell_type": "markdown",
   "id": "f47fe7a6",
   "metadata": {},
   "source": [
    "Formula to calculate Euclidean Distance of two point p and q. \n",
    "![image.png](attachment:image.png) \n",
    "Ref: https://www.cuemath.com/euclidean-distance-formula/"
   ]
  },
  {
   "cell_type": "code",
   "execution_count": 42,
   "id": "5daf0ce6",
   "metadata": {},
   "outputs": [],
   "source": [
    "def Eudistance(pA, pB):\n",
    "    return (np.sum((pA - pB)**2)**0.5)"
   ]
  },
  {
   "cell_type": "markdown",
   "id": "a3aaf9fb",
   "metadata": {},
   "source": [
    "# K-Nearest Neighbor"
   ]
  },
  {
   "cell_type": "code",
   "execution_count": 43,
   "id": "fd6799b9",
   "metadata": {},
   "outputs": [],
   "source": [
    "def kNN(X, y, x_query, k):    \n",
    "    m = X.shape[0] #initialize m with the number of values first tuple holds\n",
    "    distances = [] #initialize an empty array named distances\n",
    "    \n",
    "    for i in range(m):\n",
    "        dis = Eudistance(x_query, X[i]) #for every points in the X_query which is basically X_test, calcultates the euclidean distance\n",
    "        distances.append((dis, y[i])) #after calculation append the result in y\n",
    "    \n",
    "    distances = sorted(distances) #Sort the distance in ascendant manner\n",
    "    \n",
    "    distances = distances #sorted distances are stored\n",
    "    distances = distances[:k] #among the sorted distances, select k distances\n",
    "    \n",
    "    distances = np.array(distances) #store k distances in an array format\n",
    "    labels = distances[:,1]\n",
    "    \n",
    "    uniq_label, counts = np.unique(labels, return_counts=True)    \n",
    "    pred = uniq_label[counts.argmax()] #return the majory classes\n",
    "    \n",
    "    return int(pred)"
   ]
  },
  {
   "cell_type": "markdown",
   "id": "6003b639",
   "metadata": {},
   "source": [
    "# Input number of neighbors i.e. the value of K and make predictions for all the samples in X_test"
   ]
  },
  {
   "cell_type": "code",
   "execution_count": 45,
   "id": "ea5b6847",
   "metadata": {},
   "outputs": [
    {
     "name": "stdout",
     "output_type": "stream",
     "text": [
      "K = 4\n",
      "................................................\n",
      "Desired class: 0 computed class: 0\n",
      "Desired class: 0 computed class: 0\n",
      "Desired class: 0 computed class: 0\n",
      "Desired class: 0 computed class: 0\n",
      "Desired class: 0 computed class: 0\n",
      "Desired class: 1 computed class: 1\n",
      "Desired class: 1 computed class: 1\n",
      "Desired class: 1 computed class: 1\n",
      "Desired class: 1 computed class: 1\n",
      "Desired class: 1 computed class: 1\n",
      "Desired class: 2 computed class: 8\n",
      "Desired class: 2 computed class: 2\n",
      "Desired class: 2 computed class: 2\n",
      "Desired class: 2 computed class: 6\n",
      "Desired class: 2 computed class: 2\n",
      "Desired class: 3 computed class: 3\n",
      "Desired class: 3 computed class: 3\n",
      "Desired class: 3 computed class: 3\n",
      "Desired class: 3 computed class: 3\n",
      "Desired class: 3 computed class: 3\n",
      "Desired class: 4 computed class: 2\n",
      "Desired class: 4 computed class: 4\n",
      "Desired class: 4 computed class: 4\n",
      "Desired class: 4 computed class: 4\n",
      "Desired class: 4 computed class: 9\n",
      "Desired class: 5 computed class: 5\n",
      "Desired class: 5 computed class: 6\n",
      "Desired class: 5 computed class: 5\n",
      "Desired class: 5 computed class: 5\n",
      "Desired class: 5 computed class: 5\n",
      "Desired class: 6 computed class: 6\n",
      "Desired class: 6 computed class: 6\n",
      "Desired class: 6 computed class: 6\n",
      "Desired class: 6 computed class: 6\n",
      "Desired class: 6 computed class: 6\n",
      "Desired class: 7 computed class: 7\n",
      "Desired class: 7 computed class: 7\n",
      "Desired class: 7 computed class: 7\n",
      "Desired class: 7 computed class: 7\n",
      "Desired class: 7 computed class: 7\n",
      "Desired class: 8 computed class: 8\n",
      "Desired class: 8 computed class: 8\n",
      "Desired class: 8 computed class: 8\n",
      "Desired class: 8 computed class: 3\n",
      "Desired class: 8 computed class: 8\n",
      "Desired class: 9 computed class: 9\n",
      "Desired class: 9 computed class: 7\n",
      "Desired class: 9 computed class: 9\n",
      "Desired class: 9 computed class: 9\n",
      "Desired class: 9 computed class: 9\n"
     ]
    }
   ],
   "source": [
    "k = int(input(\"K = \")) \n",
    "predictions = []\n",
    "for i in range(50):\n",
    "    temp = kNN(X, y, X_test[i], k)\n",
    "    predictions.append(temp)\n",
    "print ('................................................')    \n",
    "predictions = np.array(predictions)\n",
    "for pred in range (len(predictions)):\n",
    "    print('Desired class: %d computed class: %d' % (y_test[pred], predictions[pred]))"
   ]
  },
  {
   "cell_type": "markdown",
   "id": "83461fdd",
   "metadata": {},
   "source": [
    "# Calculate Accuracy, Number of Missclassified Samples and Total test Samples"
   ]
  },
  {
   "cell_type": "code",
   "execution_count": 46,
   "id": "c083d51d",
   "metadata": {},
   "outputs": [
    {
     "name": "stdout",
     "output_type": "stream",
     "text": [
      "Accuracy Rate: 86.0 %\n",
      "Number of misclassified test samples: 7\n",
      "Total number of test samples: 50\n"
     ]
    }
   ],
   "source": [
    "#compare the predicted value with the desired value and if yes, add them all and divide them with the total length\n",
    "accuracy = (y_test[:50] == predictions).sum()/len(predictions) \n",
    "print(\"Accuracy Rate:\", accuracy*100,'%')\n",
    "\n",
    "# Number of Missclassified Sample\n",
    "print(\"Number of misclassified test samples:\",int (len(y_test)-(accuracy*len(y_test))))\n",
    "\n",
    "\n",
    "# Total number of test sample\n",
    "print(\"Total number of test samples:\",len(X_test))"
   ]
  },
  {
   "cell_type": "code",
   "execution_count": null,
   "id": "96d0bf33",
   "metadata": {},
   "outputs": [],
   "source": []
  }
 ],
 "metadata": {
  "kernelspec": {
   "display_name": "Python 3",
   "language": "python",
   "name": "python3"
  },
  "language_info": {
   "codemirror_mode": {
    "name": "ipython",
    "version": 3
   },
   "file_extension": ".py",
   "mimetype": "text/x-python",
   "name": "python",
   "nbconvert_exporter": "python",
   "pygments_lexer": "ipython3",
   "version": "3.8.8"
  }
 },
 "nbformat": 4,
 "nbformat_minor": 5
}
