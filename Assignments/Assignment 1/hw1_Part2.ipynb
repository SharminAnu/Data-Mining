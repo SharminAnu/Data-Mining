{
 "cells": [
  {
   "cell_type": "code",
   "execution_count": 75,
   "id": "0817c1f9",
   "metadata": {},
   "outputs": [],
   "source": [
    "import pandas as pd\n",
    "import numpy as np\n",
    "import matplotlib.pyplot as plt"
   ]
  },
  {
   "cell_type": "code",
   "execution_count": 76,
   "id": "ca73671a",
   "metadata": {},
   "outputs": [],
   "source": [
    "#load the data in a DataFrame (DF) named df\n",
    "df = pd.read_csv(\"C:\\\\Users\\\\ss3727s\\\\Assignment 635\\\\Assignment 1\\\\Part 2\\\\ramen-ratings.csv\", index_col =\"Review #\",dtype={\"Stars\":np.float64},na_values=\"Unrated\")"
   ]
  },
  {
   "cell_type": "code",
   "execution_count": 77,
   "id": "09d0173d",
   "metadata": {},
   "outputs": [
    {
     "data": {
      "text/plain": [
       "Index(['Brand', 'Variety', 'Style', 'Country', 'Stars', 'Top Ten'], dtype='object')"
      ]
     },
     "execution_count": 77,
     "metadata": {},
     "output_type": "execute_result"
    }
   ],
   "source": [
    "#Find the names of the columns.\n",
    "df.columns"
   ]
  },
  {
   "cell_type": "code",
   "execution_count": 78,
   "id": "3216dfeb",
   "metadata": {},
   "outputs": [
    {
     "data": {
      "text/html": [
       "<div>\n",
       "<style scoped>\n",
       "    .dataframe tbody tr th:only-of-type {\n",
       "        vertical-align: middle;\n",
       "    }\n",
       "\n",
       "    .dataframe tbody tr th {\n",
       "        vertical-align: top;\n",
       "    }\n",
       "\n",
       "    .dataframe thead th {\n",
       "        text-align: right;\n",
       "    }\n",
       "</style>\n",
       "<table border=\"1\" class=\"dataframe\">\n",
       "  <thead>\n",
       "    <tr style=\"text-align: right;\">\n",
       "      <th></th>\n",
       "      <th>Brand</th>\n",
       "      <th>Variety</th>\n",
       "      <th>Style</th>\n",
       "      <th>Country</th>\n",
       "      <th>Stars</th>\n",
       "      <th>Top Ten</th>\n",
       "    </tr>\n",
       "    <tr>\n",
       "      <th>Review #</th>\n",
       "      <th></th>\n",
       "      <th></th>\n",
       "      <th></th>\n",
       "      <th></th>\n",
       "      <th></th>\n",
       "      <th></th>\n",
       "    </tr>\n",
       "  </thead>\n",
       "  <tbody>\n",
       "    <tr>\n",
       "      <th>2580</th>\n",
       "      <td>New Touch</td>\n",
       "      <td>T's Restaurant Tantanmen</td>\n",
       "      <td>Cup</td>\n",
       "      <td>Japan</td>\n",
       "      <td>3.75</td>\n",
       "      <td>NaN</td>\n",
       "    </tr>\n",
       "    <tr>\n",
       "      <th>2579</th>\n",
       "      <td>Just Way</td>\n",
       "      <td>Noodles Spicy Hot Sesame Spicy Hot Sesame Guan...</td>\n",
       "      <td>Pack</td>\n",
       "      <td>Taiwan</td>\n",
       "      <td>1.00</td>\n",
       "      <td>NaN</td>\n",
       "    </tr>\n",
       "    <tr>\n",
       "      <th>2578</th>\n",
       "      <td>Nissin</td>\n",
       "      <td>Cup Noodles Chicken Vegetable</td>\n",
       "      <td>Cup</td>\n",
       "      <td>USA</td>\n",
       "      <td>2.25</td>\n",
       "      <td>NaN</td>\n",
       "    </tr>\n",
       "    <tr>\n",
       "      <th>2577</th>\n",
       "      <td>Wei Lih</td>\n",
       "      <td>GGE Ramen Snack Tomato Flavor</td>\n",
       "      <td>Pack</td>\n",
       "      <td>Taiwan</td>\n",
       "      <td>2.75</td>\n",
       "      <td>NaN</td>\n",
       "    </tr>\n",
       "    <tr>\n",
       "      <th>2576</th>\n",
       "      <td>Ching's Secret</td>\n",
       "      <td>Singapore Curry</td>\n",
       "      <td>Pack</td>\n",
       "      <td>India</td>\n",
       "      <td>3.75</td>\n",
       "      <td>NaN</td>\n",
       "    </tr>\n",
       "  </tbody>\n",
       "</table>\n",
       "</div>"
      ],
      "text/plain": [
       "                   Brand                                            Variety  \\\n",
       "Review #                                                                      \n",
       "2580           New Touch                          T's Restaurant Tantanmen    \n",
       "2579            Just Way  Noodles Spicy Hot Sesame Spicy Hot Sesame Guan...   \n",
       "2578              Nissin                      Cup Noodles Chicken Vegetable   \n",
       "2577             Wei Lih                      GGE Ramen Snack Tomato Flavor   \n",
       "2576      Ching's Secret                                    Singapore Curry   \n",
       "\n",
       "         Style Country  Stars Top Ten  \n",
       "Review #                               \n",
       "2580       Cup   Japan   3.75     NaN  \n",
       "2579      Pack  Taiwan   1.00     NaN  \n",
       "2578       Cup     USA   2.25     NaN  \n",
       "2577      Pack  Taiwan   2.75     NaN  \n",
       "2576      Pack   India   3.75     NaN  "
      ]
     },
     "execution_count": 78,
     "metadata": {},
     "output_type": "execute_result"
    }
   ],
   "source": [
    "#Use the head function to view parts of the data.\n",
    "df.head()"
   ]
  },
  {
   "cell_type": "code",
   "execution_count": 79,
   "id": "aaa3df78",
   "metadata": {},
   "outputs": [
    {
     "data": {
      "text/plain": [
       "(2580, 6)"
      ]
     },
     "execution_count": 79,
     "metadata": {},
     "output_type": "execute_result"
    }
   ],
   "source": [
    "#Find the number of observations in the dataset.\n",
    "df.shape"
   ]
  },
  {
   "cell_type": "code",
   "execution_count": 80,
   "id": "20ece603",
   "metadata": {},
   "outputs": [
    {
     "data": {
      "text/html": [
       "<div>\n",
       "<style scoped>\n",
       "    .dataframe tbody tr th:only-of-type {\n",
       "        vertical-align: middle;\n",
       "    }\n",
       "\n",
       "    .dataframe tbody tr th {\n",
       "        vertical-align: top;\n",
       "    }\n",
       "\n",
       "    .dataframe thead th {\n",
       "        text-align: right;\n",
       "    }\n",
       "</style>\n",
       "<table border=\"1\" class=\"dataframe\">\n",
       "  <thead>\n",
       "    <tr style=\"text-align: right;\">\n",
       "      <th></th>\n",
       "      <th>Stars</th>\n",
       "    </tr>\n",
       "  </thead>\n",
       "  <tbody>\n",
       "    <tr>\n",
       "      <th>count</th>\n",
       "      <td>2577.000000</td>\n",
       "    </tr>\n",
       "    <tr>\n",
       "      <th>mean</th>\n",
       "      <td>3.654676</td>\n",
       "    </tr>\n",
       "    <tr>\n",
       "      <th>std</th>\n",
       "      <td>1.015331</td>\n",
       "    </tr>\n",
       "    <tr>\n",
       "      <th>min</th>\n",
       "      <td>0.000000</td>\n",
       "    </tr>\n",
       "    <tr>\n",
       "      <th>25%</th>\n",
       "      <td>3.250000</td>\n",
       "    </tr>\n",
       "    <tr>\n",
       "      <th>50%</th>\n",
       "      <td>3.750000</td>\n",
       "    </tr>\n",
       "    <tr>\n",
       "      <th>75%</th>\n",
       "      <td>4.250000</td>\n",
       "    </tr>\n",
       "    <tr>\n",
       "      <th>max</th>\n",
       "      <td>5.000000</td>\n",
       "    </tr>\n",
       "  </tbody>\n",
       "</table>\n",
       "</div>"
      ],
      "text/plain": [
       "             Stars\n",
       "count  2577.000000\n",
       "mean      3.654676\n",
       "std       1.015331\n",
       "min       0.000000\n",
       "25%       3.250000\n",
       "50%       3.750000\n",
       "75%       4.250000\n",
       "max       5.000000"
      ]
     },
     "execution_count": 80,
     "metadata": {},
     "output_type": "execute_result"
    }
   ],
   "source": [
    "#Use the describe function to get basic statistics about the numerical attributes.\n",
    "df.describe()"
   ]
  },
  {
   "cell_type": "code",
   "execution_count": 81,
   "id": "26069903",
   "metadata": {},
   "outputs": [
    {
     "data": {
      "text/html": [
       "<div>\n",
       "<style scoped>\n",
       "    .dataframe tbody tr th:only-of-type {\n",
       "        vertical-align: middle;\n",
       "    }\n",
       "\n",
       "    .dataframe tbody tr th {\n",
       "        vertical-align: top;\n",
       "    }\n",
       "\n",
       "    .dataframe thead th {\n",
       "        text-align: right;\n",
       "    }\n",
       "</style>\n",
       "<table border=\"1\" class=\"dataframe\">\n",
       "  <thead>\n",
       "    <tr style=\"text-align: right;\">\n",
       "      <th></th>\n",
       "      <th>Brand</th>\n",
       "      <th>Variety</th>\n",
       "      <th>Style</th>\n",
       "      <th>Country</th>\n",
       "      <th>Stars</th>\n",
       "      <th>Top Ten</th>\n",
       "    </tr>\n",
       "  </thead>\n",
       "  <tbody>\n",
       "    <tr>\n",
       "      <th>count</th>\n",
       "      <td>2580</td>\n",
       "      <td>2580</td>\n",
       "      <td>2578</td>\n",
       "      <td>2580</td>\n",
       "      <td>2577.000000</td>\n",
       "      <td>41</td>\n",
       "    </tr>\n",
       "    <tr>\n",
       "      <th>unique</th>\n",
       "      <td>355</td>\n",
       "      <td>2413</td>\n",
       "      <td>7</td>\n",
       "      <td>38</td>\n",
       "      <td>NaN</td>\n",
       "      <td>38</td>\n",
       "    </tr>\n",
       "    <tr>\n",
       "      <th>top</th>\n",
       "      <td>Nissin</td>\n",
       "      <td>Chicken</td>\n",
       "      <td>Pack</td>\n",
       "      <td>Japan</td>\n",
       "      <td>NaN</td>\n",
       "      <td>\\n</td>\n",
       "    </tr>\n",
       "    <tr>\n",
       "      <th>freq</th>\n",
       "      <td>381</td>\n",
       "      <td>7</td>\n",
       "      <td>1531</td>\n",
       "      <td>352</td>\n",
       "      <td>NaN</td>\n",
       "      <td>4</td>\n",
       "    </tr>\n",
       "    <tr>\n",
       "      <th>mean</th>\n",
       "      <td>NaN</td>\n",
       "      <td>NaN</td>\n",
       "      <td>NaN</td>\n",
       "      <td>NaN</td>\n",
       "      <td>3.654676</td>\n",
       "      <td>NaN</td>\n",
       "    </tr>\n",
       "    <tr>\n",
       "      <th>std</th>\n",
       "      <td>NaN</td>\n",
       "      <td>NaN</td>\n",
       "      <td>NaN</td>\n",
       "      <td>NaN</td>\n",
       "      <td>1.015331</td>\n",
       "      <td>NaN</td>\n",
       "    </tr>\n",
       "    <tr>\n",
       "      <th>min</th>\n",
       "      <td>NaN</td>\n",
       "      <td>NaN</td>\n",
       "      <td>NaN</td>\n",
       "      <td>NaN</td>\n",
       "      <td>0.000000</td>\n",
       "      <td>NaN</td>\n",
       "    </tr>\n",
       "    <tr>\n",
       "      <th>25%</th>\n",
       "      <td>NaN</td>\n",
       "      <td>NaN</td>\n",
       "      <td>NaN</td>\n",
       "      <td>NaN</td>\n",
       "      <td>3.250000</td>\n",
       "      <td>NaN</td>\n",
       "    </tr>\n",
       "    <tr>\n",
       "      <th>50%</th>\n",
       "      <td>NaN</td>\n",
       "      <td>NaN</td>\n",
       "      <td>NaN</td>\n",
       "      <td>NaN</td>\n",
       "      <td>3.750000</td>\n",
       "      <td>NaN</td>\n",
       "    </tr>\n",
       "    <tr>\n",
       "      <th>75%</th>\n",
       "      <td>NaN</td>\n",
       "      <td>NaN</td>\n",
       "      <td>NaN</td>\n",
       "      <td>NaN</td>\n",
       "      <td>4.250000</td>\n",
       "      <td>NaN</td>\n",
       "    </tr>\n",
       "    <tr>\n",
       "      <th>max</th>\n",
       "      <td>NaN</td>\n",
       "      <td>NaN</td>\n",
       "      <td>NaN</td>\n",
       "      <td>NaN</td>\n",
       "      <td>5.000000</td>\n",
       "      <td>NaN</td>\n",
       "    </tr>\n",
       "  </tbody>\n",
       "</table>\n",
       "</div>"
      ],
      "text/plain": [
       "         Brand  Variety Style Country        Stars Top Ten\n",
       "count     2580     2580  2578    2580  2577.000000      41\n",
       "unique     355     2413     7      38          NaN      38\n",
       "top     Nissin  Chicken  Pack   Japan          NaN      \\n\n",
       "freq       381        7  1531     352          NaN       4\n",
       "mean       NaN      NaN   NaN     NaN     3.654676     NaN\n",
       "std        NaN      NaN   NaN     NaN     1.015331     NaN\n",
       "min        NaN      NaN   NaN     NaN     0.000000     NaN\n",
       "25%        NaN      NaN   NaN     NaN     3.250000     NaN\n",
       "50%        NaN      NaN   NaN     NaN     3.750000     NaN\n",
       "75%        NaN      NaN   NaN     NaN     4.250000     NaN\n",
       "max        NaN      NaN   NaN     NaN     5.000000     NaN"
      ]
     },
     "execution_count": 81,
     "metadata": {},
     "output_type": "execute_result"
    }
   ],
   "source": [
    "#Use the describe function to get basic statistics about all attributes.\n",
    "df.describe(include = 'all')"
   ]
  },
  {
   "cell_type": "code",
   "execution_count": 82,
   "id": "3b941adf",
   "metadata": {},
   "outputs": [
    {
     "data": {
      "text/plain": [
       "Brand         0\n",
       "Variety       0\n",
       "Style         2\n",
       "Country       0\n",
       "Stars         3\n",
       "Top Ten    2539\n",
       "dtype: int64"
      ]
     },
     "execution_count": 82,
     "metadata": {},
     "output_type": "execute_result"
    }
   ],
   "source": [
    "#Find the number of null values in the dataset and replace them with appropriate value. \n",
    "df.isnull().sum()"
   ]
  },
  {
   "cell_type": "code",
   "execution_count": 83,
   "id": "e8f2624e",
   "metadata": {},
   "outputs": [],
   "source": [
    "# Stars has three NaN value which was replaced by 'Unrated' in first instruction\n",
    "# Dropping 'Top Ten' column \n",
    "df.drop(columns = ['Top Ten'], inplace = True)"
   ]
  },
  {
   "cell_type": "markdown",
   "id": "392335e8",
   "metadata": {},
   "source": [
    "# What brand has the most stars on average?"
   ]
  },
  {
   "cell_type": "code",
   "execution_count": 84,
   "id": "98ff500f",
   "metadata": {},
   "outputs": [
    {
     "data": {
      "text/plain": [
       "Review #\n",
       "2580    3.75\n",
       "2579    1.00\n",
       "2578    2.25\n",
       "2577    2.75\n",
       "2576    3.75\n",
       "        ... \n",
       "5       3.50\n",
       "4       1.00\n",
       "3       2.00\n",
       "2       2.00\n",
       "1       0.50\n",
       "Name: Stars, Length: 2580, dtype: float64"
      ]
     },
     "execution_count": 84,
     "metadata": {},
     "output_type": "execute_result"
    }
   ],
   "source": [
    "df['Stars']"
   ]
  },
  {
   "cell_type": "code",
   "execution_count": 85,
   "id": "f0f034ea",
   "metadata": {},
   "outputs": [
    {
     "data": {
      "text/plain": [
       "Brand\n",
       "1 To 3 Noodles      4.000000\n",
       "7 Select            3.750000\n",
       "7 Select/Nissin     3.500000\n",
       "A-One               2.750000\n",
       "A-Sha Dry Noodle    4.067308\n",
       "                      ...   \n",
       "Yum Yum             3.750000\n",
       "Yum-Mie             3.500000\n",
       "Zow Zow             3.750000\n",
       "iMee                3.500000\n",
       "iNoodle             3.000000\n",
       "Name: Stars, Length: 355, dtype: float64"
      ]
     },
     "execution_count": 85,
     "metadata": {},
     "output_type": "execute_result"
    }
   ],
   "source": [
    "#Get the average amount of stars per brand\n",
    "averageStarsByBrand = df['Stars'].groupby(df['Brand']).mean()\n",
    "averageStarsByBrand"
   ]
  },
  {
   "cell_type": "code",
   "execution_count": 86,
   "id": "4af651f6",
   "metadata": {},
   "outputs": [
    {
     "data": {
      "image/png": "[encoded data removed]",
      "text/plain": [
       "<Figure size 432x288 with 1 Axes>"
      ]
     },
     "metadata": {
      "needs_background": "light"
     },
     "output_type": "display_data"
    }
   ],
   "source": [
    "#Show data as a scatter plot\n",
    "plt.scatter(np.arange(len(averageStarsByBrand)),averageStarsByBrand)\n",
    "plt.ylabel(\"Average Stars\")\n",
    "plt.xlabel(\"Brand\")\n",
    "plt.xticks([])\n",
    "plt.title(\"Average Number of Stars by Brand\")\n",
    "plt.show()"
   ]
  },
  {
   "cell_type": "code",
   "execution_count": 87,
   "id": "7110afec",
   "metadata": {},
   "outputs": [
    {
     "data": {
      "text/plain": [
       "count    2577.000000\n",
       "mean        3.654676\n",
       "std         1.015331\n",
       "min         0.000000\n",
       "25%         3.250000\n",
       "50%         3.750000\n",
       "75%         4.250000\n",
       "max         5.000000\n",
       "Name: Stars, dtype: float64"
      ]
     },
     "execution_count": 87,
     "metadata": {},
     "output_type": "execute_result"
    }
   ],
   "source": [
    "#Get basic statistics about the ‘Stars’ column using the describe function. \n",
    "#This helps give an idea about the min, max, median values of tip in addition to other basic statistics.\n",
    "df['Stars'].describe()"
   ]
  },
  {
   "cell_type": "code",
   "execution_count": 88,
   "id": "1de17718",
   "metadata": {},
   "outputs": [
    {
     "data": {
      "image/png": "[encoded data removed]",
      "text/plain": [
       "<Figure size 432x288 with 1 Axes>"
      ]
     },
     "metadata": {
      "needs_background": "light"
     },
     "output_type": "display_data"
    }
   ],
   "source": [
    "#Draw a boxplot of the Stars column. This gives a visual representation of the Stars data and shows outliers.\n",
    "plt.boxplot(averageStarsByBrand)\n",
    "plt.show()"
   ]
  },
  {
   "cell_type": "code",
   "execution_count": 89,
   "id": "9fb21ec5",
   "metadata": {},
   "outputs": [],
   "source": [
    "#Group companies by their average star ratings\n",
    "nostar = len(averageStarsByBrand[averageStarsByBrand < 1.0]) / len(averageStarsByBrand)\n",
    "onestar = len(averageStarsByBrand[(averageStarsByBrand < 2.0) & (averageStarsByBrand >= 1.0)]) / len(averageStarsByBrand)\n",
    "twostar = len(averageStarsByBrand[(averageStarsByBrand < 3.0) & (averageStarsByBrand >= 2.0)]) / len(averageStarsByBrand)\n",
    "threestar = len(averageStarsByBrand[(averageStarsByBrand < 4.0) & (averageStarsByBrand >= 3.0)]) / len(averageStarsByBrand)\n",
    "fourstar = len(averageStarsByBrand[(averageStarsByBrand < 5.0) & (averageStarsByBrand >= 4.0)]) / len(averageStarsByBrand)\n",
    "fivestar = len(averageStarsByBrand[(averageStarsByBrand == 5.0)]) / len(averageStarsByBrand)"
   ]
  },
  {
   "cell_type": "code",
   "execution_count": 90,
   "id": "efca6031",
   "metadata": {},
   "outputs": [
    {
     "data": {
      "image/png": "[encoded data removed]",
      "text/plain": [
       "<Figure size 432x288 with 1 Axes>"
      ]
     },
     "metadata": {},
     "output_type": "display_data"
    }
   ],
   "source": [
    "plt.pie([nostar,onestar,twostar,threestar,fourstar,fivestar],labels=[\"No Stars\",\"One Star\",\"Two Stars\",\"Three Stars\",\"Four Stars\",\"Five Stars\"],autopct=\"%1.1f%%\")\n",
    "plt.axis('equal')\n",
    "plt.show()"
   ]
  },
  {
   "cell_type": "markdown",
   "id": "ee00a08d",
   "metadata": {},
   "source": [
    "# Which one is the most popular style of ramen?"
   ]
  },
  {
   "cell_type": "code",
   "execution_count": 91,
   "id": "8953cdb3",
   "metadata": {},
   "outputs": [
    {
     "data": {
      "text/plain": [
       "count     2578\n",
       "unique       7\n",
       "top       Pack\n",
       "freq      1531\n",
       "Name: Style, dtype: object"
      ]
     },
     "execution_count": 91,
     "metadata": {},
     "output_type": "execute_result"
    }
   ],
   "source": [
    "#Apply the describe function on the “Style” column of the ramen DF and observe the result.\n",
    "df['Style'].describe()"
   ]
  },
  {
   "cell_type": "code",
   "execution_count": 92,
   "id": "47d29a98",
   "metadata": {},
   "outputs": [
    {
     "data": {
      "text/plain": [
       "Pack    1531\n",
       "Bowl     481\n",
       "Cup      450\n",
       "Tray     108\n",
       "Box        6\n",
       "Can        1\n",
       "Bar        1\n",
       "Name: Style, dtype: int64"
      ]
     },
     "execution_count": 92,
     "metadata": {},
     "output_type": "execute_result"
    }
   ],
   "source": [
    "#Find the most popular style of ramen\n",
    "df['Style'].value_counts()"
   ]
  },
  {
   "cell_type": "code",
   "execution_count": 93,
   "id": "2adaaa23",
   "metadata": {},
   "outputs": [
    {
     "data": {
      "text/plain": [
       "Country\n",
       "Australia         22\n",
       "Bangladesh         7\n",
       "Brazil             5\n",
       "Cambodia           5\n",
       "Canada            41\n",
       "China            168\n",
       "Colombia           6\n",
       "Dubai              3\n",
       "Estonia            2\n",
       "Fiji               4\n",
       "Finland            3\n",
       "Germany           27\n",
       "Ghana              2\n",
       "Holland            4\n",
       "Hong Kong        137\n",
       "Hungary            9\n",
       "India             31\n",
       "Indonesia        126\n",
       "Japan            352\n",
       "Malaysia         156\n",
       "Mexico            25\n",
       "Myanmar           14\n",
       "Nepal             14\n",
       "Netherlands       15\n",
       "Nigeria            1\n",
       "Pakistan           9\n",
       "Philippines       47\n",
       "Poland             4\n",
       "Sarawak            3\n",
       "Singapore        109\n",
       "South Korea      309\n",
       "Sweden             3\n",
       "Taiwan           223\n",
       "Thailand         191\n",
       "UK                69\n",
       "USA              323\n",
       "United States      1\n",
       "Vietnam          108\n",
       "Name: Style, dtype: int64"
      ]
     },
     "execution_count": 93,
     "metadata": {},
     "output_type": "execute_result"
    }
   ],
   "source": [
    "#Create a bar chart comparing the number of styles each country produce. \n",
    "#Give labels to the x-axis = ‘Countries’, y-axis = ‘Total Number of Styles’ and title = ‘Country-Wise Ramen Style’.\n",
    "CountrywiseStyle = df['Style'].groupby(df['Country']).count()\n",
    "CountrywiseStyle"
   ]
  },
  {
   "cell_type": "code",
   "execution_count": 94,
   "id": "094299ed",
   "metadata": {},
   "outputs": [
    {
     "data": {
      "image/png": "[encoded data removed]",
      "text/plain": [
       "<Figure size 1080x360 with 1 Axes>"
      ]
     },
     "metadata": {
      "needs_background": "light"
     },
     "output_type": "display_data"
    }
   ],
   "source": [
    "plt.figure(figsize=(15, 5))\n",
    "plt.bar(CountrywiseStyle.index,CountrywiseStyle, align='edge', width=0.3)\n",
    "plt.tick_params(axis='x', rotation=90)\n",
    "plt.show()"
   ]
  },
  {
   "cell_type": "code",
   "execution_count": null,
   "id": "c1c4d105",
   "metadata": {},
   "outputs": [],
   "source": []
  },
  {
   "cell_type": "code",
   "execution_count": null,
   "id": "a7acbd81",
   "metadata": {},
   "outputs": [],
   "source": []
  }
 ],
 "metadata": {
  "kernelspec": {
   "display_name": "Python 3",
   "language": "python",
   "name": "python3"
  },
  "language_info": {
   "codemirror_mode": {
    "name": "ipython",
    "version": 3
   },
   "file_extension": ".py",
   "mimetype": "text/x-python",
   "name": "python",
   "nbconvert_exporter": "python",
   "pygments_lexer": "ipython3",
   "version": "3.8.8"
  }
 },
 "nbformat": 4,
 "nbformat_minor": 5
}
