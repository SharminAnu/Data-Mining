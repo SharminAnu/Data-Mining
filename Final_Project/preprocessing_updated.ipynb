{
 "cells": [
  {
   "cell_type": "code",
   "execution_count": 168,
   "metadata": {},
   "outputs": [],
   "source": [
    "import pandas as pd\n",
    "import numpy as np\n",
    "from sklearn.model_selection import train_test_split\n",
    "from sklearn.preprocessing import MinMaxScaler\n",
    "from sklearn import metrics"
   ]
  },
  {
   "cell_type": "markdown",
   "metadata": {},
   "source": [
    "<h1>Loading and exploration of the dataset</h1>"
   ]
  },
  {
   "cell_type": "code",
   "execution_count": 169,
   "metadata": {},
   "outputs": [],
   "source": [
    "df = pd.read_csv(\"data.csv\")"
   ]
  },
  {
   "cell_type": "code",
   "execution_count": 170,
   "metadata": {},
   "outputs": [
    {
     "data": {
      "text/plain": [
       "0        Hilarious (2)  GROUP PROJECTS (2)  Gives good ...\n",
       "1        Hilarious (2)  GROUP PROJECTS (2)  Gives good ...\n",
       "2        Hilarious (2)  GROUP PROJECTS (2)  Gives good ...\n",
       "3        Hilarious (2)  GROUP PROJECTS (2)  Gives good ...\n",
       "4        Hilarious (2)  GROUP PROJECTS (2)  Gives good ...\n",
       "                               ...                        \n",
       "19995    BEWARE OF POP QUIZZES (4)  Amazing lectures (3...\n",
       "19996    BEWARE OF POP QUIZZES (4)  Amazing lectures (3...\n",
       "19997    BEWARE OF POP QUIZZES (4)  Amazing lectures (3...\n",
       "19998    BEWARE OF POP QUIZZES (4)  Amazing lectures (3...\n",
       "19999    BEWARE OF POP QUIZZES (4)  Amazing lectures (3...\n",
       "Name: tag_professor, Length: 20000, dtype: object"
      ]
     },
     "execution_count": 170,
     "metadata": {},
     "output_type": "execute_result"
    }
   ],
   "source": [
    "df[\"tag_professor\"]"
   ]
  },
  {
   "cell_type": "code",
   "execution_count": 171,
   "metadata": {},
   "outputs": [
    {
     "data": {
      "text/plain": [
       "(20000, 51)"
      ]
     },
     "execution_count": 171,
     "metadata": {},
     "output_type": "execute_result"
    }
   ],
   "source": [
    "df.shape #This gives the number of records (20,000) and the  number of features per record (51)"
   ]
  },
  {
   "cell_type": "code",
   "execution_count": 172,
   "metadata": {},
   "outputs": [
    {
     "data": {
      "text/html": [
       "<div>\n",
       "<style scoped>\n",
       "    .dataframe tbody tr th:only-of-type {\n",
       "        vertical-align: middle;\n",
       "    }\n",
       "\n",
       "    .dataframe tbody tr th {\n",
       "        vertical-align: top;\n",
       "    }\n",
       "\n",
       "    .dataframe thead th {\n",
       "        text-align: right;\n",
       "    }\n",
       "</style>\n",
       "<table border=\"1\" class=\"dataframe\">\n",
       "  <thead>\n",
       "    <tr style=\"text-align: right;\">\n",
       "      <th></th>\n",
       "      <th>professor_name</th>\n",
       "      <th>school_name</th>\n",
       "      <th>department_name</th>\n",
       "      <th>local_name</th>\n",
       "      <th>state_name</th>\n",
       "      <th>year_since_first_review</th>\n",
       "      <th>star_rating</th>\n",
       "      <th>take_again</th>\n",
       "      <th>diff_index</th>\n",
       "      <th>tag_professor</th>\n",
       "      <th>...</th>\n",
       "      <th>lots_of_homework</th>\n",
       "      <th>accessible_outside_class</th>\n",
       "      <th>lecture_heavy</th>\n",
       "      <th>extra_credit</th>\n",
       "      <th>graded_by_few_things</th>\n",
       "      <th>group_projects</th>\n",
       "      <th>test_heavy</th>\n",
       "      <th>so_many_papers</th>\n",
       "      <th>beware_of_pop_quizzes</th>\n",
       "      <th>IsCourseOnline</th>\n",
       "    </tr>\n",
       "  </thead>\n",
       "  <tbody>\n",
       "    <tr>\n",
       "      <th>count</th>\n",
       "      <td>20000</td>\n",
       "      <td>20000</td>\n",
       "      <td>20000</td>\n",
       "      <td>20000</td>\n",
       "      <td>20000</td>\n",
       "      <td>20000.00000</td>\n",
       "      <td>20000.000000</td>\n",
       "      <td>2998</td>\n",
       "      <td>20000.000000</td>\n",
       "      <td>11093</td>\n",
       "      <td>...</td>\n",
       "      <td>20000.000000</td>\n",
       "      <td>20000.000000</td>\n",
       "      <td>20000.000000</td>\n",
       "      <td>20000.000000</td>\n",
       "      <td>20000.000000</td>\n",
       "      <td>20000.000000</td>\n",
       "      <td>20000.000000</td>\n",
       "      <td>20000.000000</td>\n",
       "      <td>20000.000000</td>\n",
       "      <td>20000.000000</td>\n",
       "    </tr>\n",
       "    <tr>\n",
       "      <th>unique</th>\n",
       "      <td>1413</td>\n",
       "      <td>554</td>\n",
       "      <td>101</td>\n",
       "      <td>417</td>\n",
       "      <td>57</td>\n",
       "      <td>NaN</td>\n",
       "      <td>NaN</td>\n",
       "      <td>43</td>\n",
       "      <td>NaN</td>\n",
       "      <td>591</td>\n",
       "      <td>...</td>\n",
       "      <td>NaN</td>\n",
       "      <td>NaN</td>\n",
       "      <td>NaN</td>\n",
       "      <td>NaN</td>\n",
       "      <td>NaN</td>\n",
       "      <td>NaN</td>\n",
       "      <td>NaN</td>\n",
       "      <td>NaN</td>\n",
       "      <td>NaN</td>\n",
       "      <td>NaN</td>\n",
       "    </tr>\n",
       "    <tr>\n",
       "      <th>top</th>\n",
       "      <td>Alan  Bell</td>\n",
       "      <td>Volunteer State Community College</td>\n",
       "      <td>English department</td>\n",
       "      <td>Gallatin</td>\n",
       "      <td>CA</td>\n",
       "      <td>NaN</td>\n",
       "      <td>NaN</td>\n",
       "      <td>100%</td>\n",
       "      <td>NaN</td>\n",
       "      <td>Tough Grader (1)</td>\n",
       "      <td>...</td>\n",
       "      <td>NaN</td>\n",
       "      <td>NaN</td>\n",
       "      <td>NaN</td>\n",
       "      <td>NaN</td>\n",
       "      <td>NaN</td>\n",
       "      <td>NaN</td>\n",
       "      <td>NaN</td>\n",
       "      <td>NaN</td>\n",
       "      <td>NaN</td>\n",
       "      <td>NaN</td>\n",
       "    </tr>\n",
       "    <tr>\n",
       "      <th>freq</th>\n",
       "      <td>38</td>\n",
       "      <td>860</td>\n",
       "      <td>2262</td>\n",
       "      <td>860</td>\n",
       "      <td>2334</td>\n",
       "      <td>NaN</td>\n",
       "      <td>NaN</td>\n",
       "      <td>695</td>\n",
       "      <td>NaN</td>\n",
       "      <td>129</td>\n",
       "      <td>...</td>\n",
       "      <td>NaN</td>\n",
       "      <td>NaN</td>\n",
       "      <td>NaN</td>\n",
       "      <td>NaN</td>\n",
       "      <td>NaN</td>\n",
       "      <td>NaN</td>\n",
       "      <td>NaN</td>\n",
       "      <td>NaN</td>\n",
       "      <td>NaN</td>\n",
       "      <td>NaN</td>\n",
       "    </tr>\n",
       "    <tr>\n",
       "      <th>mean</th>\n",
       "      <td>NaN</td>\n",
       "      <td>NaN</td>\n",
       "      <td>NaN</td>\n",
       "      <td>NaN</td>\n",
       "      <td>NaN</td>\n",
       "      <td>7.82350</td>\n",
       "      <td>3.643825</td>\n",
       "      <td>NaN</td>\n",
       "      <td>2.956345</td>\n",
       "      <td>NaN</td>\n",
       "      <td>...</td>\n",
       "      <td>0.201350</td>\n",
       "      <td>0.134250</td>\n",
       "      <td>0.217750</td>\n",
       "      <td>0.116150</td>\n",
       "      <td>0.102800</td>\n",
       "      <td>0.080700</td>\n",
       "      <td>0.098350</td>\n",
       "      <td>0.076750</td>\n",
       "      <td>0.067900</td>\n",
       "      <td>0.020100</td>\n",
       "    </tr>\n",
       "    <tr>\n",
       "      <th>std</th>\n",
       "      <td>NaN</td>\n",
       "      <td>NaN</td>\n",
       "      <td>NaN</td>\n",
       "      <td>NaN</td>\n",
       "      <td>NaN</td>\n",
       "      <td>3.91505</td>\n",
       "      <td>0.836048</td>\n",
       "      <td>NaN</td>\n",
       "      <td>0.776795</td>\n",
       "      <td>NaN</td>\n",
       "      <td>...</td>\n",
       "      <td>0.401019</td>\n",
       "      <td>0.340929</td>\n",
       "      <td>0.412727</td>\n",
       "      <td>0.320413</td>\n",
       "      <td>0.303705</td>\n",
       "      <td>0.272381</td>\n",
       "      <td>0.297795</td>\n",
       "      <td>0.266201</td>\n",
       "      <td>0.251581</td>\n",
       "      <td>0.140346</td>\n",
       "    </tr>\n",
       "    <tr>\n",
       "      <th>min</th>\n",
       "      <td>NaN</td>\n",
       "      <td>NaN</td>\n",
       "      <td>NaN</td>\n",
       "      <td>NaN</td>\n",
       "      <td>NaN</td>\n",
       "      <td>0.00000</td>\n",
       "      <td>1.000000</td>\n",
       "      <td>NaN</td>\n",
       "      <td>1.000000</td>\n",
       "      <td>NaN</td>\n",
       "      <td>...</td>\n",
       "      <td>0.000000</td>\n",
       "      <td>0.000000</td>\n",
       "      <td>0.000000</td>\n",
       "      <td>0.000000</td>\n",
       "      <td>0.000000</td>\n",
       "      <td>0.000000</td>\n",
       "      <td>0.000000</td>\n",
       "      <td>0.000000</td>\n",
       "      <td>0.000000</td>\n",
       "      <td>0.000000</td>\n",
       "    </tr>\n",
       "    <tr>\n",
       "      <th>25%</th>\n",
       "      <td>NaN</td>\n",
       "      <td>NaN</td>\n",
       "      <td>NaN</td>\n",
       "      <td>NaN</td>\n",
       "      <td>NaN</td>\n",
       "      <td>4.00000</td>\n",
       "      <td>3.000000</td>\n",
       "      <td>NaN</td>\n",
       "      <td>2.400000</td>\n",
       "      <td>NaN</td>\n",
       "      <td>...</td>\n",
       "      <td>0.000000</td>\n",
       "      <td>0.000000</td>\n",
       "      <td>0.000000</td>\n",
       "      <td>0.000000</td>\n",
       "      <td>0.000000</td>\n",
       "      <td>0.000000</td>\n",
       "      <td>0.000000</td>\n",
       "      <td>0.000000</td>\n",
       "      <td>0.000000</td>\n",
       "      <td>0.000000</td>\n",
       "    </tr>\n",
       "    <tr>\n",
       "      <th>50%</th>\n",
       "      <td>NaN</td>\n",
       "      <td>NaN</td>\n",
       "      <td>NaN</td>\n",
       "      <td>NaN</td>\n",
       "      <td>NaN</td>\n",
       "      <td>8.00000</td>\n",
       "      <td>3.700000</td>\n",
       "      <td>NaN</td>\n",
       "      <td>3.000000</td>\n",
       "      <td>NaN</td>\n",
       "      <td>...</td>\n",
       "      <td>0.000000</td>\n",
       "      <td>0.000000</td>\n",
       "      <td>0.000000</td>\n",
       "      <td>0.000000</td>\n",
       "      <td>0.000000</td>\n",
       "      <td>0.000000</td>\n",
       "      <td>0.000000</td>\n",
       "      <td>0.000000</td>\n",
       "      <td>0.000000</td>\n",
       "      <td>0.000000</td>\n",
       "    </tr>\n",
       "    <tr>\n",
       "      <th>75%</th>\n",
       "      <td>NaN</td>\n",
       "      <td>NaN</td>\n",
       "      <td>NaN</td>\n",
       "      <td>NaN</td>\n",
       "      <td>NaN</td>\n",
       "      <td>11.00000</td>\n",
       "      <td>4.300000</td>\n",
       "      <td>NaN</td>\n",
       "      <td>3.500000</td>\n",
       "      <td>NaN</td>\n",
       "      <td>...</td>\n",
       "      <td>0.000000</td>\n",
       "      <td>0.000000</td>\n",
       "      <td>0.000000</td>\n",
       "      <td>0.000000</td>\n",
       "      <td>0.000000</td>\n",
       "      <td>0.000000</td>\n",
       "      <td>0.000000</td>\n",
       "      <td>0.000000</td>\n",
       "      <td>0.000000</td>\n",
       "      <td>0.000000</td>\n",
       "    </tr>\n",
       "    <tr>\n",
       "      <th>max</th>\n",
       "      <td>NaN</td>\n",
       "      <td>NaN</td>\n",
       "      <td>NaN</td>\n",
       "      <td>NaN</td>\n",
       "      <td>NaN</td>\n",
       "      <td>16.00000</td>\n",
       "      <td>5.000000</td>\n",
       "      <td>NaN</td>\n",
       "      <td>5.000000</td>\n",
       "      <td>NaN</td>\n",
       "      <td>...</td>\n",
       "      <td>1.000000</td>\n",
       "      <td>1.000000</td>\n",
       "      <td>1.000000</td>\n",
       "      <td>1.000000</td>\n",
       "      <td>1.000000</td>\n",
       "      <td>1.000000</td>\n",
       "      <td>1.000000</td>\n",
       "      <td>1.000000</td>\n",
       "      <td>1.000000</td>\n",
       "      <td>1.000000</td>\n",
       "    </tr>\n",
       "  </tbody>\n",
       "</table>\n",
       "<p>11 rows × 51 columns</p>\n",
       "</div>"
      ],
      "text/plain": [
       "       professor_name                        school_name     department_name  \\\n",
       "count           20000                              20000               20000   \n",
       "unique           1413                                554                 101   \n",
       "top        Alan  Bell  Volunteer State Community College  English department   \n",
       "freq               38                                860                2262   \n",
       "mean              NaN                                NaN                 NaN   \n",
       "std               NaN                                NaN                 NaN   \n",
       "min               NaN                                NaN                 NaN   \n",
       "25%               NaN                                NaN                 NaN   \n",
       "50%               NaN                                NaN                 NaN   \n",
       "75%               NaN                                NaN                 NaN   \n",
       "max               NaN                                NaN                 NaN   \n",
       "\n",
       "       local_name state_name  year_since_first_review   star_rating  \\\n",
       "count       20000      20000              20000.00000  20000.000000   \n",
       "unique        417         57                      NaN           NaN   \n",
       "top      Gallatin         CA                      NaN           NaN   \n",
       "freq          860       2334                      NaN           NaN   \n",
       "mean          NaN        NaN                  7.82350      3.643825   \n",
       "std           NaN        NaN                  3.91505      0.836048   \n",
       "min           NaN        NaN                  0.00000      1.000000   \n",
       "25%           NaN        NaN                  4.00000      3.000000   \n",
       "50%           NaN        NaN                  8.00000      3.700000   \n",
       "75%           NaN        NaN                 11.00000      4.300000   \n",
       "max           NaN        NaN                 16.00000      5.000000   \n",
       "\n",
       "       take_again    diff_index     tag_professor  ...  lots_of_homework  \\\n",
       "count        2998  20000.000000             11093  ...      20000.000000   \n",
       "unique         43           NaN               591  ...               NaN   \n",
       "top          100%           NaN  Tough Grader (1)  ...               NaN   \n",
       "freq          695           NaN               129  ...               NaN   \n",
       "mean          NaN      2.956345               NaN  ...          0.201350   \n",
       "std           NaN      0.776795               NaN  ...          0.401019   \n",
       "min           NaN      1.000000               NaN  ...          0.000000   \n",
       "25%           NaN      2.400000               NaN  ...          0.000000   \n",
       "50%           NaN      3.000000               NaN  ...          0.000000   \n",
       "75%           NaN      3.500000               NaN  ...          0.000000   \n",
       "max           NaN      5.000000               NaN  ...          1.000000   \n",
       "\n",
       "       accessible_outside_class lecture_heavy  extra_credit  \\\n",
       "count              20000.000000  20000.000000  20000.000000   \n",
       "unique                      NaN           NaN           NaN   \n",
       "top                         NaN           NaN           NaN   \n",
       "freq                        NaN           NaN           NaN   \n",
       "mean                   0.134250      0.217750      0.116150   \n",
       "std                    0.340929      0.412727      0.320413   \n",
       "min                    0.000000      0.000000      0.000000   \n",
       "25%                    0.000000      0.000000      0.000000   \n",
       "50%                    0.000000      0.000000      0.000000   \n",
       "75%                    0.000000      0.000000      0.000000   \n",
       "max                    1.000000      1.000000      1.000000   \n",
       "\n",
       "        graded_by_few_things  group_projects    test_heavy so_many_papers  \\\n",
       "count           20000.000000    20000.000000  20000.000000   20000.000000   \n",
       "unique                   NaN             NaN           NaN            NaN   \n",
       "top                      NaN             NaN           NaN            NaN   \n",
       "freq                     NaN             NaN           NaN            NaN   \n",
       "mean                0.102800        0.080700      0.098350       0.076750   \n",
       "std                 0.303705        0.272381      0.297795       0.266201   \n",
       "min                 0.000000        0.000000      0.000000       0.000000   \n",
       "25%                 0.000000        0.000000      0.000000       0.000000   \n",
       "50%                 0.000000        0.000000      0.000000       0.000000   \n",
       "75%                 0.000000        0.000000      0.000000       0.000000   \n",
       "max                 1.000000        1.000000      1.000000       1.000000   \n",
       "\n",
       "       beware_of_pop_quizzes IsCourseOnline  \n",
       "count           20000.000000   20000.000000  \n",
       "unique                   NaN            NaN  \n",
       "top                      NaN            NaN  \n",
       "freq                     NaN            NaN  \n",
       "mean                0.067900       0.020100  \n",
       "std                 0.251581       0.140346  \n",
       "min                 0.000000       0.000000  \n",
       "25%                 0.000000       0.000000  \n",
       "50%                 0.000000       0.000000  \n",
       "75%                 0.000000       0.000000  \n",
       "max                 1.000000       1.000000  \n",
       "\n",
       "[11 rows x 51 columns]"
      ]
     },
     "execution_count": 172,
     "metadata": {},
     "output_type": "execute_result"
    }
   ],
   "source": [
    "df.describe(include=\"all\") #Some basic statistics about the data."
   ]
  },
  {
   "cell_type": "code",
   "execution_count": 173,
   "metadata": {},
   "outputs": [
    {
     "data": {
      "text/plain": [
       "professor_name                  0\n",
       "school_name                     0\n",
       "department_name                 0\n",
       "local_name                      0\n",
       "state_name                      0\n",
       "year_since_first_review         0\n",
       "star_rating                     0\n",
       "take_again                  17002\n",
       "diff_index                      0\n",
       "tag_professor                8907\n",
       "num_student                     0\n",
       "post_date                       5\n",
       "name_onlines                    0\n",
       "name_not_onlines                5\n",
       "student_star                    5\n",
       "student_difficult               5\n",
       "attence                     15991\n",
       "for_credits                 15947\n",
       "would_take_agains           17418\n",
       "grades                      16708\n",
       "help_useful                     0\n",
       "help_not_useful                 0\n",
       "comments                        7\n",
       "word_comment                    7\n",
       "gender                          0\n",
       "race                            0\n",
       "asian                           0\n",
       "hispanic                        0\n",
       "nh_black                        0\n",
       "nh_white                        0\n",
       "gives_good_feedback             0\n",
       "caring                          0\n",
       "respected                       0\n",
       "participation_matters           0\n",
       "clear_grading_criteria          0\n",
       "skip_class                      0\n",
       "amazing_lectures                0\n",
       "inspirational                   0\n",
       "tough_grader                    0\n",
       "hilarious                       0\n",
       "get_ready_to_read               0\n",
       "lots_of_homework                0\n",
       "accessible_outside_class        0\n",
       "lecture_heavy                   0\n",
       "extra_credit                    0\n",
       "graded_by_few_things            0\n",
       "group_projects                  0\n",
       "test_heavy                      0\n",
       "so_many_papers                  0\n",
       "beware_of_pop_quizzes           0\n",
       "IsCourseOnline                  0\n",
       "dtype: int64"
      ]
     },
     "execution_count": 173,
     "metadata": {},
     "output_type": "execute_result"
    }
   ],
   "source": [
    "df.isnull().sum() #How many null elements there are by attribute"
   ]
  },
  {
   "cell_type": "markdown",
   "metadata": {},
   "source": [
    "<h1>Preprocessing</h1>"
   ]
  },
  {
   "cell_type": "code",
   "execution_count": 174,
   "metadata": {},
   "outputs": [
    {
     "data": {
      "text/plain": [
       "(11093, 51)"
      ]
     },
     "execution_count": 174,
     "metadata": {},
     "output_type": "execute_result"
    }
   ],
   "source": [
    "df2 = df[df[\"tag_professor\"].notnull()] #We remove the records which don't have any tags\n",
    "df2.shape #This will show how many records are remaining after dropping the nulls (11093). There are still 51 features for now"
   ]
  },
  {
   "cell_type": "code",
   "execution_count": 175,
   "metadata": {},
   "outputs": [
    {
     "data": {
      "text/plain": [
       "(11093, 23)"
      ]
     },
     "execution_count": 175,
     "metadata": {},
     "output_type": "execute_result"
    }
   ],
   "source": [
    "#Drop all columns except for the professor name, the star rating, and the binary tag attributes\n",
    "df3 = df2.drop([\"school_name\",\"department_name\",\n",
    "          \"local_name\",\"state_name\",\"take_again\",\n",
    "          \"post_date\",\"name_onlines\",\"name_not_onlines\", \n",
    "          \"student_star\",\"student_difficult\",\"help_useful\", \"help_not_useful\",\n",
    "          \"attence\",\"for_credits\",\"would_take_agains\",\n",
    "         \"grades\", \"comments\",\"race\",\"gender\",\"asian\",\"hispanic\",\"nh_black\",\"nh_white\",\n",
    "         \"year_since_first_review\",\"diff_index\",\"tag_professor\",\"num_student\",\"help_useful\",\"help_not_useful\",\"word_comment\"],axis=1)\n",
    "df3.shape #We are now down to 23 features. The professor name, the star rating, and the 21 binary tag attributes"
   ]
  },
  {
   "cell_type": "code",
   "execution_count": 176,
   "metadata": {},
   "outputs": [
    {
     "data": {
      "text/plain": [
       "(626, 22)"
      ]
     },
     "execution_count": 176,
     "metadata": {},
     "output_type": "execute_result"
    }
   ],
   "source": [
    "df4 = df3.groupby(df3[\"professor_name\"]).mean() #This will get the star rating and tags grouped by professor.\n",
    "\n",
    "df4.shape #This gives the number of records after the groupby, where now each record corresponds to a single professor. There are now 626 records with 22 features (star rating & 21 tags)"
   ]
  },
  {
   "cell_type": "code",
   "execution_count": 177,
   "metadata": {},
   "outputs": [],
   "source": [
    "y = df4[\"star_rating\"].to_numpy() #This will get our targets for regression as a numpy array\n",
    "x = df4.drop([\"star_rating\"],axis=1) #This will remove the column we are targetting so that we can perform regression just on the tag"
   ]
  },
  {
   "cell_type": "code",
   "execution_count": 178,
   "metadata": {},
   "outputs": [],
   "source": [
    "mms = MinMaxScaler() \n",
    "yn = mms.fit_transform(y.reshape((-1,1))) #This will scale the star ratings from [0,1]"
   ]
  },
  {
   "cell_type": "code",
   "execution_count": 179,
   "metadata": {},
   "outputs": [],
   "source": [
    "xtrain2,xtest2,ytrain2,ytest2 = train_test_split(x.to_numpy(),yn,test_size=0.1,random_state=0) #Splits the dataset into training and testing. The random state is set as a constant for consistent results when grading, but this can be"
   ]
  },
  {
   "cell_type": "code",
   "execution_count": 180,
   "metadata": {},
   "outputs": [],
   "source": [
    "#Reshapes the regression targets to (n_samples,n_features) which is the required format for sklearn\n",
    "ytrain2 = ytrain2.ravel() \n",
    "ytest2 = ytest2.ravel()"
   ]
  },
  {
   "cell_type": "markdown",
   "metadata": {},
   "source": [
    "<h1> Regression </h1>"
   ]
  },
  {
   "cell_type": "markdown",
   "metadata": {},
   "source": [
    "<h2>1. Linear Regression </h2>"
   ]
  },
  {
   "cell_type": "code",
   "execution_count": 181,
   "metadata": {},
   "outputs": [],
   "source": [
    "from sklearn.linear_model import LinearRegression"
   ]
  },
  {
   "cell_type": "code",
   "execution_count": 182,
   "metadata": {},
   "outputs": [],
   "source": [
    "linearreg = LinearRegression().fit(xtrain2,ytrain2) #Create and fit linear regression model"
   ]
  },
  {
   "cell_type": "code",
   "execution_count": 183,
   "metadata": {},
   "outputs": [],
   "source": [
    "linearregpreds = linearreg.predict(xtest2) #Gets the predictions on the testing set using the trained model"
   ]
  },
  {
   "cell_type": "code",
   "execution_count": 184,
   "metadata": {},
   "outputs": [
    {
     "name": "stdout",
     "output_type": "stream",
     "text": [
      "Mean Absolute Error: 0.15203139911464042\n",
      "Mean Squared Error: 0.03915207042158926\n",
      "Root Mean Squared Error: 0.19786882124677768\n"
     ]
    }
   ],
   "source": [
    "lrmae = metrics.mean_absolute_error(ytest2, linearregpreds)\n",
    "lrmse =  metrics.mean_squared_error(ytest2, linearregpreds)\n",
    "lrrmse = np.sqrt(metrics.mean_squared_error(ytest2, linearregpreds))\n",
    "print('Mean Absolute Error:', lrmae)\n",
    "print('Mean Squared Error:', lrmse)\n",
    "print('Root Mean Squared Error:', lrrmse)"
   ]
  },
  {
   "cell_type": "markdown",
   "metadata": {},
   "source": [
    "<h2>2. K-Nearest Neighbors Regression</h2>"
   ]
  },
  {
   "cell_type": "code",
   "execution_count": 185,
   "metadata": {},
   "outputs": [],
   "source": [
    "from sklearn.neighbors import KNeighborsRegressor"
   ]
  },
  {
   "cell_type": "code",
   "execution_count": 186,
   "metadata": {},
   "outputs": [],
   "source": [
    "knnreg = KNeighborsRegressor(n_neighbors=50).fit(xtrain2,ytrain2) #Create and fit linear regression model"
   ]
  },
  {
   "cell_type": "code",
   "execution_count": 187,
   "metadata": {},
   "outputs": [],
   "source": [
    "knnregpreds = knnreg.predict(xtest2) #Gets the predictions on the testing set using the trained model"
   ]
  },
  {
   "cell_type": "code",
   "execution_count": 188,
   "metadata": {},
   "outputs": [
    {
     "name": "stdout",
     "output_type": "stream",
     "text": [
      "Mean Absolute Error: 0.1591836734693877\n",
      "Mean Squared Error: 0.03960013994169095\n",
      "Root Mean Squared Error: 0.19899783903774168\n"
     ]
    }
   ],
   "source": [
    "knnmae = metrics.mean_absolute_error(ytest2, knnregpreds)\n",
    "knnmse =  metrics.mean_squared_error(ytest2, knnregpreds)\n",
    "knnrmse = np.sqrt(metrics.mean_squared_error(ytest2, knnregpreds))\n",
    "print('Mean Absolute Error:', knnmae)\n",
    "print('Mean Squared Error:', knnmse)\n",
    "print('Root Mean Squared Error:', knnrmse)"
   ]
  },
  {
   "cell_type": "markdown",
   "metadata": {},
   "source": [
    "<h2>3. Support Vector Machine Regression</h2>"
   ]
  },
  {
   "cell_type": "code",
   "execution_count": 189,
   "metadata": {},
   "outputs": [],
   "source": [
    "from sklearn.svm import SVR"
   ]
  },
  {
   "cell_type": "code",
   "execution_count": 190,
   "metadata": {},
   "outputs": [],
   "source": [
    "svmreg = SVR(kernel='linear').fit(xtrain2,ytrain2) #Create and fit svm regression model"
   ]
  },
  {
   "cell_type": "code",
   "execution_count": 191,
   "metadata": {},
   "outputs": [],
   "source": [
    "svmregpreds = svmreg.predict(xtest2) #Gets the predictions on the testing set using the trained model"
   ]
  },
  {
   "cell_type": "code",
   "execution_count": 192,
   "metadata": {},
   "outputs": [
    {
     "name": "stdout",
     "output_type": "stream",
     "text": [
      "Mean Absolute Error: 0.15288400975478098\n",
      "Mean Squared Error: 0.039281963121801815\n",
      "Root Mean Squared Error: 0.19819677878765288\n"
     ]
    }
   ],
   "source": [
    "svmmae = metrics.mean_absolute_error(ytest2, svmregpreds)\n",
    "svmmse =  metrics.mean_squared_error(ytest2, svmregpreds)\n",
    "svmrmse = np.sqrt(metrics.mean_squared_error(ytest2, svmregpreds))\n",
    "print('Mean Absolute Error:', svmmae)\n",
    "print('Mean Squared Error:', svmmse)\n",
    "print('Root Mean Squared Error:', svmrmse)"
   ]
  },
  {
   "cell_type": "markdown",
   "metadata": {},
   "source": [
    "<h2>4. Decision Tree Regression</h2>"
   ]
  },
  {
   "cell_type": "code",
   "execution_count": 193,
   "metadata": {},
   "outputs": [],
   "source": [
    "from sklearn.tree import DecisionTreeRegressor"
   ]
  },
  {
   "cell_type": "code",
   "execution_count": 194,
   "metadata": {},
   "outputs": [],
   "source": [
    "dtreg =  DecisionTreeRegressor().fit(xtrain2,ytrain2) #Create and fit decision tree regression model"
   ]
  },
  {
   "cell_type": "code",
   "execution_count": 195,
   "metadata": {},
   "outputs": [],
   "source": [
    "dtregpreds = dtreg.predict(xtest2) #Gets the predictions on the testing set using the trained model"
   ]
  },
  {
   "cell_type": "code",
   "execution_count": 196,
   "metadata": {},
   "outputs": [
    {
     "name": "stdout",
     "output_type": "stream",
     "text": [
      "Mean Absolute Error: 0.26288737717309135\n",
      "Mean Squared Error: 0.09941187056833313\n",
      "Root Mean Squared Error: 0.315296480424906\n"
     ]
    }
   ],
   "source": [
    "dtmae = metrics.mean_absolute_error(ytest2, dtregpreds)\n",
    "dtmse =  metrics.mean_squared_error(ytest2, dtregpreds)\n",
    "dtrmse = np.sqrt(metrics.mean_squared_error(ytest2, dtregpreds))\n",
    "print('Mean Absolute Error:', dtmae)\n",
    "print('Mean Squared Error:', dtmse)\n",
    "print('Root Mean Squared Error:', dtrmse)"
   ]
  },
  {
   "cell_type": "markdown",
   "metadata": {},
   "source": [
    "<h2>5. Random Forest Regression</h2>"
   ]
  },
  {
   "cell_type": "code",
   "execution_count": 197,
   "metadata": {},
   "outputs": [],
   "source": [
    "from sklearn.ensemble import RandomForestRegressor"
   ]
  },
  {
   "cell_type": "code",
   "execution_count": 198,
   "metadata": {},
   "outputs": [],
   "source": [
    "rfreg = RandomForestRegressor(max_depth=2, random_state=0).fit(xtrain2,ytrain2) #Create and fit linear regression model"
   ]
  },
  {
   "cell_type": "code",
   "execution_count": 199,
   "metadata": {},
   "outputs": [],
   "source": [
    "rfregpreds = rfreg.predict(xtest2) #Gets the predictions on the testing set using the trained model"
   ]
  },
  {
   "cell_type": "code",
   "execution_count": 200,
   "metadata": {},
   "outputs": [
    {
     "name": "stdout",
     "output_type": "stream",
     "text": [
      "Mean Absolute Error: 0.17211304354414664\n",
      "Mean Squared Error: 0.047118237824499164\n",
      "Root Mean Squared Error: 0.21706735780512731\n"
     ]
    }
   ],
   "source": [
    "rfmae = metrics.mean_absolute_error(ytest2, rfregpreds)\n",
    "rfmse =  metrics.mean_squared_error(ytest2, rfregpreds)\n",
    "rfrmse = np.sqrt(metrics.mean_squared_error(ytest2, rfregpreds))\n",
    "print('Mean Absolute Error:', rfmae)\n",
    "print('Mean Squared Error:', rfmse)\n",
    "print('Root Mean Squared Error:', rfrmse)"
   ]
  },
  {
   "cell_type": "markdown",
   "metadata": {},
   "source": [
    "<h2>6. Multi-layer Perceptron Regression</h2>"
   ]
  },
  {
   "cell_type": "code",
   "execution_count": 201,
   "metadata": {},
   "outputs": [],
   "source": [
    "from sklearn.neural_network import MLPRegressor"
   ]
  },
  {
   "cell_type": "code",
   "execution_count": 202,
   "metadata": {},
   "outputs": [],
   "source": [
    "mlpreg = MLPRegressor(max_iter=1000).fit(xtrain2,ytrain2) #Create and fit multi-layer perceptron regression model"
   ]
  },
  {
   "cell_type": "code",
   "execution_count": 203,
   "metadata": {},
   "outputs": [],
   "source": [
    "mlpregpreds = mlpreg.predict(xtest2) #Gets the predictions on the testing set using the trained model"
   ]
  },
  {
   "cell_type": "code",
   "execution_count": 204,
   "metadata": {},
   "outputs": [
    {
     "name": "stdout",
     "output_type": "stream",
     "text": [
      "Mean Absolute Error: 0.1654518733185543\n",
      "Mean Squared Error: 0.04697668463356341\n",
      "Root Mean Squared Error: 0.21674105433342206\n"
     ]
    }
   ],
   "source": [
    "mlpmae = metrics.mean_absolute_error(ytest2, mlpregpreds)\n",
    "mlpmse =  metrics.mean_squared_error(ytest2, mlpregpreds)\n",
    "mlprmse = np.sqrt(metrics.mean_squared_error(ytest2, mlpregpreds))\n",
    "print('Mean Absolute Error:', mlpmae)\n",
    "print('Mean Squared Error:', mlpmse)\n",
    "print('Root Mean Squared Error:', mlprmse)"
   ]
  },
  {
   "cell_type": "markdown",
   "metadata": {},
   "source": [
    "<h1>Plots</h1>"
   ]
  },
  {
   "cell_type": "code",
   "execution_count": 209,
   "metadata": {},
   "outputs": [],
   "source": [
    "import matplotlib.pyplot as plt"
   ]
  },
  {
   "cell_type": "code",
   "execution_count": 210,
   "metadata": {},
   "outputs": [
    {
     "data": {
      "image/png": "[encoded data removed]",
      "text/plain": [
       "<Figure size 432x288 with 1 Axes>"
      ]
     },
     "metadata": {
      "needs_background": "light"
     },
     "output_type": "display_data"
    }
   ],
   "source": [
    "plt.bar(np.arange(0,12,2),[lrmae,knnmae,svmmae,dtmae,rfmae,mlpmae],tick_label=[\"Linear Regression\", \"K-Nearest Neighbors\",\"Support Vector Machine\", \"Decision Tree\",\"Random Forest\",\"Multi-layer Perceptron\"])\n",
    "plt.plot()\n",
    "plt.title(\"Mean Absolute Error\")\n",
    "plt.xticks(rotation=45)\n",
    "plt.show()"
   ]
  },
  {
   "cell_type": "code",
   "execution_count": 211,
   "metadata": {},
   "outputs": [
    {
     "data": {
      "image/png": "[encoded data removed]",
      "text/plain": [
       "<Figure size 432x288 with 1 Axes>"
      ]
     },
     "metadata": {
      "needs_background": "light"
     },
     "output_type": "display_data"
    }
   ],
   "source": [
    "plt.bar(np.arange(0,12,2),[lrmse,knnmse,svmmse,dtmse,rfmse,mlpmse],tick_label=[\"Linear Regression\", \"K-Nearest Neighbors\",\"Support Vector Machine\", \"Decision Tree\",\"Random Forest\",\"Multi-layer Perceptron\"])\n",
    "plt.plot()\n",
    "plt.title(\"Mean Squared Error\")\n",
    "plt.xticks(rotation=45)\n",
    "plt.show()"
   ]
  },
  {
   "cell_type": "code",
   "execution_count": 213,
   "metadata": {},
   "outputs": [
    {
     "data": {
      "image/png": "[encoded data removed]",
      "text/plain": [
       "<Figure size 432x288 with 1 Axes>"
      ]
     },
     "metadata": {
      "needs_background": "light"
     },
     "output_type": "display_data"
    }
   ],
   "source": [
    "plt.bar(np.arange(0,12,2),[lrrmse,knnrmse,svmrmse,dtrmse,rfrmse,mlprmse],tick_label=[\"Linear Regression\", \"K-Nearest Neighbors\",\"Support Vector Machine\", \"Decision Tree\",\"Random Forest\",\"Multi-layer Perceptron\"])\n",
    "plt.plot()\n",
    "plt.title(\"Root Mean Squared Error\")\n",
    "plt.xticks(rotation=45)\n",
    "plt.show()"
   ]
  },
  {
   "cell_type": "code",
   "execution_count": null,
   "metadata": {},
   "outputs": [],
   "source": []
  }
 ],
 "metadata": {
  "kernelspec": {
   "display_name": "Python 3",
   "language": "python",
   "name": "python3"
  },
  "language_info": {
   "codemirror_mode": {
    "name": "ipython",
    "version": 3
   },
   "file_extension": ".py",
   "mimetype": "text/x-python",
   "name": "python",
   "nbconvert_exporter": "python",
   "pygments_lexer": "ipython3",
   "version": "3.8.8"
  }
 },
 "nbformat": 4,
 "nbformat_minor": 4
}
